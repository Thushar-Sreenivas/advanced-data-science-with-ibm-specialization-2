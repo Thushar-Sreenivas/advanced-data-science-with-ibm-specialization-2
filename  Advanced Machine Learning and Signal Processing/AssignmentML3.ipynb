{
    "nbformat_minor": 1, 
    "cells": [
        {
            "source": "This is the third assignment for the Coursera course \"Advanced Machine Learning and Signal Processing\"\n\nAgain, please insert to code to your ApacheCouchDB based Cloudant instance below using the \"Insert Code\" function of Watson Studio (you've done this in Assignment 1 and 2 before)\n\nDone, just execute all cells one after the other and you are done - just note that in the last one you must update your email address (the one you've used for coursera) and obtain a submission token, you get this from the programming assignment directly on coursera.\n\nPlease fill in the sections labelled with \"###YOUR_CODE_GOES_HERE###\"\n", 
            "cell_type": "markdown", 
            "metadata": {}
        }, 
        {
            "execution_count": 1, 
            "cell_type": "code", 
            "metadata": {}, 
            "outputs": [], 
            "source": "# The code was removed by Watson Studio for sharing."
        }, 
        {
            "source": "Let's create a SparkSession object and put the Cloudant credentials into it", 
            "cell_type": "markdown", 
            "metadata": {}
        }, 
        {
            "execution_count": 2, 
            "cell_type": "code", 
            "metadata": {}, 
            "outputs": [], 
            "source": "spark = SparkSession\\\n    .builder\\\n    .appName(\"Cloudant Spark SQL Example in Python using temp tables\")\\\n    .config(\"cloudant.host\",credentials_1['custom_url'].split('@')[1])\\\n    .config(\"cloudant.username\", credentials_1['username'])\\\n    .config(\"cloudant.password\",credentials_1['password'])\\\n    .config(\"jsonstore.rdd.partitions\", 1)\\\n    .getOrCreate()"
        }, 
        {
            "source": "Now it\u2019s time to have a look at the recorded sensor data. You should see data similar to the one exemplified below\u2026.\n", 
            "cell_type": "markdown", 
            "metadata": {}
        }, 
        {
            "execution_count": 3, 
            "cell_type": "code", 
            "metadata": {}, 
            "outputs": [
                {
                    "output_type": "stream", 
                    "name": "stdout", 
                    "text": "+-----+--------+-----+-----+-----+--------------------+--------------------+\n|CLASS|SENSORID|    X|    Y|    Z|                 _id|                _rev|\n+-----+--------+-----+-----+-----+--------------------+--------------------+\n|    0|qwertyui|-0.01|-0.01|-0.01|204a988dc54034655...|1-d420fe4e0aecf9e...|\n|    0|qwertyui|  0.0|  0.0|  0.0|204a988dc54034655...|1-79a425ac6fa2a93...|\n|    0|qwertyui|-0.02|-0.02|-0.02|204a988dc54034655...|1-241442bb9333788...|\n|    0|qwertyui| 0.03| 0.03| 0.03|204a988dc54034655...|1-e74f8da2535b668...|\n|    0|qwertyui| 0.01| 0.01| 0.01|204a988dc54034655...|1-8b997db32f3eb67...|\n|    0|qwertyui|-0.02|-0.02|-0.02|204a988dc54034655...|1-241442bb9333788...|\n|    0|qwertyui| 0.01| 0.01| 0.01|204a988dc54034655...|1-8b997db32f3eb67...|\n|    0|qwertyui| 0.02| 0.02| 0.02|204a988dc54034655...|1-1ab8e1f2d755c03...|\n|    0|qwertyui|  0.0|  0.0|  0.0|204a988dc54034655...|1-79a425ac6fa2a93...|\n|    0|qwertyui|-0.02|-0.02|-0.02|204a988dc54034655...|1-241442bb9333788...|\n|    0|qwertyui|  0.0|  0.0|  0.0|204a988dc54034655...|1-79a425ac6fa2a93...|\n|    0|qwertyui| 0.01| 0.01| 0.01|204a988dc54034655...|1-8b997db32f3eb67...|\n|    0|qwertyui|  0.0|  0.0|  0.0|204a988dc54034655...|1-79a425ac6fa2a93...|\n|    0|qwertyui| 0.01| 0.01| 0.01|204a988dc54034655...|1-8b997db32f3eb67...|\n|    0|qwertyui|  0.0|  0.0|  0.0|204a988dc54034655...|1-79a425ac6fa2a93...|\n|    0|qwertyui|  0.0|  0.0|  0.0|204a988dc54034655...|1-79a425ac6fa2a93...|\n|    0|qwertyui|-0.01|-0.01|-0.01|204a988dc54034655...|1-d420fe4e0aecf9e...|\n|    0|qwertyui|-0.01|-0.01|-0.01|204a988dc54034655...|1-d420fe4e0aecf9e...|\n|    0|qwertyui|  0.0|  0.0|  0.0|204a988dc54034655...|1-79a425ac6fa2a93...|\n|    0|qwertyui| 0.01| 0.01| 0.01|204a988dc54034655...|1-8b997db32f3eb67...|\n+-----+--------+-----+-----+-----+--------------------+--------------------+\nonly showing top 20 rows\n\n"
                }
            ], 
            "source": "df=spark.read.load('shake_classification', \"com.cloudant.spark\")\n\ndf.createOrReplaceTempView(\"df\")\nspark.sql(\"SELECT * from df\").show()\n"
        }, 
        {
            "source": "Let\u2019s check if we have balanced classes \u2013 this means that we have roughly the same number of examples for each class we want to predict. This is important for classification but also helpful for clustering", 
            "cell_type": "markdown", 
            "metadata": {}
        }, 
        {
            "execution_count": 4, 
            "cell_type": "code", 
            "metadata": {}, 
            "outputs": [
                {
                    "output_type": "stream", 
                    "name": "stdout", 
                    "text": "+------------+-----+\n|count(class)|class|\n+------------+-----+\n|        2298|    0|\n+------------+-----+\n\n"
                }
            ], 
            "source": "spark.sql(\"SELECT count(class), class from df group by class\").show()"
        }, 
        {
            "source": "Let's create a VectorAssembler which consumes columns X, Y and Z and produces a column \u201cfeatures\u201d\n", 
            "cell_type": "markdown", 
            "metadata": {}
        }, 
        {
            "execution_count": 5, 
            "cell_type": "code", 
            "metadata": {}, 
            "outputs": [], 
            "source": "from pyspark.ml.feature import VectorAssembler\nvectorAssembler = VectorAssembler(inputCols=[\"X\",\"Y\",\"Z\"],\n                                  outputCol=\"features\")"
        }, 
        {
            "source": "Please insatiate a clustering algorithm from the SparkML package and assign it to the clust variable. Here we don\u2019t need to take care of the \u201cCLASS\u201d column since we are in unsupervised learning mode \u2013 so let\u2019s pretend to not even have the \u201cCLASS\u201d column for now \u2013 but it will become very handy later in assessing the clustering performance. PLEASE NOTE \u2013 IN REAL-WORLD SCENARIOS THERE IS NO CLASS COLUMN \u2013 THEREFORE YOU CAN\u2019T ASSESS CLASSIFICATION PERFORMANCE USING THIS COLUMN \n\n", 
            "cell_type": "markdown", 
            "metadata": {}
        }, 
        {
            "execution_count": 6, 
            "cell_type": "code", 
            "metadata": {}, 
            "outputs": [], 
            "source": "from pyspark.ml.clustering import KMeans\n\nclust = KMeans().setK(2).setSeed(1)"
        }, 
        {
            "source": "Let\u2019s train...\n", 
            "cell_type": "markdown", 
            "metadata": {}
        }, 
        {
            "execution_count": 7, 
            "cell_type": "code", 
            "metadata": {}, 
            "outputs": [], 
            "source": "from pyspark.ml import Pipeline\npipeline = Pipeline(stages=[vectorAssembler, clust])\nmodel = pipeline.fit(df)"
        }, 
        {
            "source": "...and evaluate...", 
            "cell_type": "markdown", 
            "metadata": {}
        }, 
        {
            "execution_count": 8, 
            "cell_type": "code", 
            "metadata": {}, 
            "outputs": [
                {
                    "output_type": "stream", 
                    "name": "stdout", 
                    "text": "+-----+--------+-----+-----+-----+--------------------+--------------------+-------------------+----------+\n|CLASS|SENSORID|    X|    Y|    Z|                 _id|                _rev|           features|prediction|\n+-----+--------+-----+-----+-----+--------------------+--------------------+-------------------+----------+\n|    0|qwertyui|-0.01|-0.01|-0.01|204a988dc54034655...|1-d420fe4e0aecf9e...|[-0.01,-0.01,-0.01]|         0|\n|    0|qwertyui|  0.0|  0.0|  0.0|204a988dc54034655...|1-79a425ac6fa2a93...|          (3,[],[])|         0|\n|    0|qwertyui|-0.02|-0.02|-0.02|204a988dc54034655...|1-241442bb9333788...|[-0.02,-0.02,-0.02]|         0|\n|    0|qwertyui| 0.03| 0.03| 0.03|204a988dc54034655...|1-e74f8da2535b668...|   [0.03,0.03,0.03]|         0|\n|    0|qwertyui| 0.01| 0.01| 0.01|204a988dc54034655...|1-8b997db32f3eb67...|   [0.01,0.01,0.01]|         0|\n|    0|qwertyui|-0.02|-0.02|-0.02|204a988dc54034655...|1-241442bb9333788...|[-0.02,-0.02,-0.02]|         0|\n|    0|qwertyui| 0.01| 0.01| 0.01|204a988dc54034655...|1-8b997db32f3eb67...|   [0.01,0.01,0.01]|         0|\n|    0|qwertyui| 0.02| 0.02| 0.02|204a988dc54034655...|1-1ab8e1f2d755c03...|   [0.02,0.02,0.02]|         0|\n|    0|qwertyui|  0.0|  0.0|  0.0|204a988dc54034655...|1-79a425ac6fa2a93...|          (3,[],[])|         0|\n|    0|qwertyui|-0.02|-0.02|-0.02|204a988dc54034655...|1-241442bb9333788...|[-0.02,-0.02,-0.02]|         0|\n|    0|qwertyui|  0.0|  0.0|  0.0|204a988dc54034655...|1-79a425ac6fa2a93...|          (3,[],[])|         0|\n|    0|qwertyui| 0.01| 0.01| 0.01|204a988dc54034655...|1-8b997db32f3eb67...|   [0.01,0.01,0.01]|         0|\n|    0|qwertyui|  0.0|  0.0|  0.0|204a988dc54034655...|1-79a425ac6fa2a93...|          (3,[],[])|         0|\n|    0|qwertyui| 0.01| 0.01| 0.01|204a988dc54034655...|1-8b997db32f3eb67...|   [0.01,0.01,0.01]|         0|\n|    0|qwertyui|  0.0|  0.0|  0.0|204a988dc54034655...|1-79a425ac6fa2a93...|          (3,[],[])|         0|\n|    0|qwertyui|  0.0|  0.0|  0.0|204a988dc54034655...|1-79a425ac6fa2a93...|          (3,[],[])|         0|\n|    0|qwertyui|-0.01|-0.01|-0.01|204a988dc54034655...|1-d420fe4e0aecf9e...|[-0.01,-0.01,-0.01]|         0|\n|    0|qwertyui|-0.01|-0.01|-0.01|204a988dc54034655...|1-d420fe4e0aecf9e...|[-0.01,-0.01,-0.01]|         0|\n|    0|qwertyui|  0.0|  0.0|  0.0|204a988dc54034655...|1-79a425ac6fa2a93...|          (3,[],[])|         0|\n|    0|qwertyui| 0.01| 0.01| 0.01|204a988dc54034655...|1-8b997db32f3eb67...|   [0.01,0.01,0.01]|         0|\n+-----+--------+-----+-----+-----+--------------------+--------------------+-------------------+----------+\nonly showing top 20 rows\n\n"
                }
            ], 
            "source": "prediction = model.transform(df)\nprediction.show()"
        }, 
        {
            "execution_count": 9, 
            "cell_type": "code", 
            "metadata": {}, 
            "outputs": [
                {
                    "execution_count": 9, 
                    "metadata": {}, 
                    "data": {
                        "text/plain": "0.8986074847693647"
                    }, 
                    "output_type": "execute_result"
                }
            ], 
            "source": "prediction.createOrReplaceTempView('prediction')\nspark.sql('''\nselect max(correct)/max(total) as accuracy from (\n\n    select sum(correct) as correct, count(correct) as total from (\n        select case when class != prediction then 1 else 0 end as correct from prediction \n    ) \n    \n    union\n    \n    select sum(correct) as correct, count(correct) as total from (\n        select case when class = prediction then 1 else 0 end as correct from prediction \n    ) \n)\n''').rdd.map(lambda row: row.accuracy).collect()[0]"
        }, 
        {
            "source": "If you reached at least 55% of accuracy you are fine to submit your predictions to the grader. Otherwise please experiment with parameters setting to your clustering algorithm, use a different algorithm or just re-record your data and try to obtain. In case you are stuck, please use the Coursera Discussion Forum. Please note again \u2013 in a real-world scenario there is no way in doing this \u2013 since there is no class label in your data. Please have a look at this further reading on clustering performance evaluation https://en.wikipedia.org/wiki/Cluster_analysis#Evaluation_and_assessment\n", 
            "cell_type": "markdown", 
            "metadata": {}
        }, 
        {
            "execution_count": 10, 
            "cell_type": "code", 
            "metadata": {}, 
            "outputs": [], 
            "source": "!rm -Rf a2_m3.json"
        }, 
        {
            "execution_count": 11, 
            "cell_type": "code", 
            "metadata": {}, 
            "outputs": [
                {
                    "output_type": "stream", 
                    "name": "stdout", 
                    "text": "--2018-12-31 00:18:35--  https://raw.githubusercontent.com/romeokienzler/developerWorks/master/coursera/ai/rklib.py\nResolving raw.githubusercontent.com (raw.githubusercontent.com)... 151.101.48.133\nConnecting to raw.githubusercontent.com (raw.githubusercontent.com)|151.101.48.133|:443... connected.\nHTTP request sent, awaiting response... 200 OK\nLength: 2289 (2.2K) [text/plain]\nSaving to: \u2018rklib.py\u2019\n\n100%[======================================>] 2,289       --.-K/s   in 0s      \n\n2018-12-31 00:18:36 (17.4 MB/s) - \u2018rklib.py\u2019 saved [2289/2289]\n\n"
                }
            ], 
            "source": "!rm -f rklib.py\n!wget https://raw.githubusercontent.com/romeokienzler/developerWorks/master/coursera/ai/rklib.py"
        }, 
        {
            "execution_count": 12, 
            "cell_type": "code", 
            "metadata": {}, 
            "outputs": [], 
            "source": "prediction= prediction.repartition(1)\nprediction.write.json('a2_m3.json')"
        }, 
        {
            "execution_count": 13, 
            "cell_type": "code", 
            "metadata": {}, 
            "outputs": [
                {
                    "output_type": "stream", 
                    "name": "stdout", 
                    "text": "  adding: a2_m3.json/ (stored 0%)\r\n  adding: a2_m3.json/.part-00000-ed0d1b2c-0e06-49de-8566-52671521dcf1.json.crc (stored 0%)\r\n  adding: a2_m3.json/_SUCCESS (stored 0%)\r\n  adding: a2_m3.json/._SUCCESS.crc (stored 0%)\r\n  adding: a2_m3.json/part-00000-ed0d1b2c-0e06-49de-8566-52671521dcf1.json (deflated 91%)\r\n"
                }
            ], 
            "source": "!zip -r a2_m3.json.zip a2_m3.json"
        }, 
        {
            "execution_count": 14, 
            "cell_type": "code", 
            "metadata": {}, 
            "outputs": [], 
            "source": "!base64 a2_m3.json.zip > a2_m3.json.zip.base64"
        }, 
        {
            "execution_count": 15, 
            "cell_type": "code", 
            "metadata": {}, 
            "outputs": [
                {
                    "output_type": "stream", 
                    "name": "stdout", 
                    "text": "Submission successful, please check on the coursera grader page for the status\n-------------------------\n{\"elements\":[{\"itemId\":\"Cu6KW\",\"id\":\"f_F-qCtuEei_fRLwaVDk3g~Cu6KW~6XsEcAzDEemMKRIFUZOhcA\",\"courseId\":\"f_F-qCtuEei_fRLwaVDk3g\"}],\"paging\":{},\"linked\":{}}\n-------------------------\n"
                }
            ], 
            "source": "from rklib import submit\nkey = \"pPfm62VXEeiJOBL0dhxPkA\"\npart = \"EOTMs\"\nemail = \"tommyhpratama@gmail.com\"\nsecret = \"eXeUhp7TcwM5XtGl\"\n\nwith open('a2_m3.json.zip.base64', 'r') as myfile:\n    data=myfile.read()\nsubmit(email, secret, key, part, [part], data)"
        }
    ], 
    "metadata": {
        "kernelspec": {
            "display_name": "Python 3.5 with Spark 2.1", 
            "name": "python3-spark21", 
            "language": "python"
        }, 
        "language_info": {
            "mimetype": "text/x-python", 
            "nbconvert_exporter": "python", 
            "version": "3.5.4", 
            "name": "python", 
            "file_extension": ".py", 
            "pygments_lexer": "ipython3", 
            "codemirror_mode": {
                "version": 3, 
                "name": "ipython"
            }
        }
    }, 
    "nbformat": 4
}