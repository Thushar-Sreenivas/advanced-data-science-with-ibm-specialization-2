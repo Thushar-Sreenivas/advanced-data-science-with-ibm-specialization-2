{
    "nbformat_minor": 1, 
    "cells": [
        {
            "source": "This is the last assignment for the Coursera course \"Advanced Machine Learning and Signal Processing\"\n\nAgain, please insert to code to your ApacheCouchDB based Cloudant instance below using the \"Insert Code\" function of Watson Studio (you've done this in Assignment 1 before)\n\n\nDone, just execute all cells one after the other and you are done - just note that in the last one you should update your email address (the one you've used for coursera) and obtain a submission token, you get this from the programming assignment directly on coursera.\n\nPlease fill in the sections labelled with \"###YOUR_CODE_GOES_HERE###\"\n\nThe purpose of this assignment is to learn how feature engineering boosts model performance. You will apply Discrete Fourier Transformation on the accelerometer sensor time series and therefore transforming the dataset from the time to the frequency domain. \n\nAfter that, you\u2019ll use a classification algorithm of your choice to create a model and submit the new predictions to the grader. Done.\n", 
            "cell_type": "markdown", 
            "metadata": {}
        }, 
        {
            "execution_count": 1, 
            "cell_type": "code", 
            "metadata": {}, 
            "outputs": [], 
            "source": "# The code was removed by Watson Studio for sharing."
        }, 
        {
            "source": "Let's create a SparkSession object and put the Cloudant credentials into it", 
            "cell_type": "markdown", 
            "metadata": {}
        }, 
        {
            "execution_count": 2, 
            "cell_type": "code", 
            "metadata": {}, 
            "outputs": [], 
            "source": "spark = SparkSession\\\n    .builder\\\n    .appName(\"Cloudant Spark SQL Example in Python using temp tables\")\\\n    .config(\"cloudant.host\",credentials_1['custom_url'].split('@')[1])\\\n    .config(\"cloudant.username\", credentials_1['username'])\\\n    .config(\"cloudant.password\",credentials_1['password'])\\\n    .config(\"jsonstore.rdd.partitions\", 1)\\\n    .getOrCreate()"
        }, 
        {
            "source": "Now it\u2019s time to read the sensor data and create a temporary query table.", 
            "cell_type": "markdown", 
            "metadata": {}
        }, 
        {
            "execution_count": 3, 
            "cell_type": "code", 
            "metadata": {}, 
            "outputs": [], 
            "source": "df=spark.read.load('shake_classification', \"com.cloudant.spark\")\ndf.createOrReplaceTempView(\"df\")"
        }, 
        {
            "source": "We need to make sure SystemML is installed.\n", 
            "cell_type": "markdown", 
            "metadata": {}
        }, 
        {
            "execution_count": 4, 
            "cell_type": "code", 
            "metadata": {}, 
            "outputs": [
                {
                    "output_type": "stream", 
                    "name": "stdout", 
                    "text": "Collecting systemml\n\u001b[?25l  Downloading https://files.pythonhosted.org/packages/b1/94/62104cb8c526b462cd501c7319926fb81ac9a5668574a0b3407658a506ab/systemml-1.2.0.tar.gz (9.7MB)\n\u001b[K    100% |\u2588\u2588\u2588\u2588\u2588\u2588\u2588\u2588\u2588\u2588\u2588\u2588\u2588\u2588\u2588\u2588\u2588\u2588\u2588\u2588\u2588\u2588\u2588\u2588\u2588\u2588\u2588\u2588\u2588\u2588\u2588\u2588| 9.7MB 3.9MB/s eta 0:00:01\n\u001b[?25hRequirement already satisfied: numpy>=1.8.2 in /usr/local/src/conda3_runtime.v49/home/envs/DSX-Python35-Spark/lib/python3.5/site-packages (from systemml) (1.13.3)\nRequirement already satisfied: scipy>=0.15.1 in /usr/local/src/conda3_runtime.v49/home/envs/DSX-Python35-Spark/lib/python3.5/site-packages (from systemml) (1.0.0)\nRequirement already satisfied: pandas in /usr/local/src/conda3_runtime.v49/home/envs/DSX-Python35-Spark/lib/python3.5/site-packages (from systemml) (0.21.0)\nRequirement already satisfied: scikit-learn in /usr/local/src/conda3_runtime.v49/home/envs/DSX-Python35-Spark/lib/python3.5/site-packages (from systemml) (0.19.1)\nRequirement already satisfied: Pillow>=2.0.0 in /usr/local/src/conda3_runtime.v49/home/envs/DSX-Python35-Spark/lib/python3.5/site-packages (from systemml) (4.2.1)\nRequirement already satisfied: python-dateutil>=2 in /usr/local/src/conda3_runtime.v49/home/envs/DSX-Python35-Spark/lib/python3.5/site-packages (from pandas->systemml) (2.6.1)\nRequirement already satisfied: pytz>=2011k in /usr/local/src/conda3_runtime.v49/home/envs/DSX-Python35-Spark/lib/python3.5/site-packages (from pandas->systemml) (2018.4)\nRequirement already satisfied: olefile in /usr/local/src/conda3_runtime.v49/home/envs/DSX-Python35-Spark/lib/python3.5/site-packages (from Pillow>=2.0.0->systemml) (0.44)\nRequirement already satisfied: six>=1.5 in /usr/local/src/conda3_runtime.v49/home/envs/DSX-Python35-Spark/lib/python3.5/site-packages (from python-dateutil>=2->pandas->systemml) (1.11.0)\nBuilding wheels for collected packages: systemml\n  Running setup.py bdist_wheel for systemml ... \u001b[?25ldone\n\u001b[?25h  Stored in directory: /gpfs/fs01/user/s6af-25ebcc3b729394-48400e0943db/.cache/pip/wheels/cf/07/79/b3ed6f12afe06b2ab55d60dcfd62e66240f5d8c6088a518177\nSuccessfully built systemml\n\u001b[31mnotebook 5.0.0 requires nbconvert, which is not installed.\u001b[0m\n\u001b[31mipywidgets 6.0.0 requires widgetsnbextension~=2.0.0, which is not installed.\u001b[0m\n\u001b[31mtensorflow 1.3.0 requires tensorflow-tensorboard<0.2.0,>=0.1.0, which is not installed.\u001b[0m\nInstalling collected packages: systemml\nSuccessfully installed systemml-1.2.0\n"
                }
            ], 
            "source": "!pip install systemml"
        }, 
        {
            "source": "We\u2019ll use Apache SystemML to implement Discrete Fourier Transformation. This way all computation continues to happen on the Apache Spark cluster for advanced scalability and performance.", 
            "cell_type": "markdown", 
            "metadata": {}
        }, 
        {
            "execution_count": 5, 
            "cell_type": "code", 
            "metadata": {}, 
            "outputs": [], 
            "source": "from systemml import MLContext, dml\nml = MLContext(spark)"
        }, 
        {
            "source": "As you\u2019ve learned from the lecture, implementing Discrete Fourier Transformation in a linear algebra programming language is simple. Apache SystemML DML is such a language and as you can see the implementation is straightforward and doesn\u2019t differ too much from the mathematical definition (Just note that the sum operator has been swapped with a vector dot product using the %*% syntax borrowed from R\n):\n\n<img style=\"float: left;\" src=\"https://wikimedia.org/api/rest_v1/media/math/render/svg/1af0a78dc50bbf118ab6bd4c4dcc3c4ff8502223\">\n\n", 
            "cell_type": "markdown", 
            "metadata": {}
        }, 
        {
            "execution_count": 6, 
            "cell_type": "code", 
            "metadata": {}, 
            "outputs": [], 
            "source": "dml_script = '''\nPI = 3.141592654\nN = nrow(signal)\n\nn = seq(0, N-1, 1)\nk = seq(0, N-1, 1)\n\nM = (n %*% t(k))*(2*PI/N)\n\nXa = cos(M) %*% signal\nXb = sin(M) %*% signal\n\nDFT = cbind(Xa, Xb)\n'''"
        }, 
        {
            "source": "Now it\u2019s time to create a function which takes a single row Apache Spark data frame as argument (the one containing the accelerometer measurement time series for one axis) and returns the Fourier transformation of it. In addition, we are adding an index column for later joining all axis together and renaming the columns to appropriate names. The result of this function is an Apache Spark DataFrame containing the Fourier Transformation of its input in two columns. \n", 
            "cell_type": "markdown", 
            "metadata": {}
        }, 
        {
            "execution_count": 7, 
            "cell_type": "code", 
            "metadata": {}, 
            "outputs": [], 
            "source": "from pyspark.sql.functions import monotonically_increasing_id\n\ndef dft_systemml(signal,name):\n    prog = dml(dml_script).input('signal', signal).output('DFT')\n    \n    return (\n\n    #execute the script inside the SystemML engine running on top of Apache Spark\n    ml.execute(prog) \n     \n         #read result from SystemML execution back as SystemML Matrix\n        .get('DFT') \n     \n         #convert SystemML Matrix to ApacheSpark DataFrame \n        .toDF() \n     \n         #rename default column names\n        .selectExpr('C1 as %sa' % (name), 'C2 as %sb' % (name)) \n     \n         #add unique ID per row for later joining\n        .withColumn(\"id\", monotonically_increasing_id())\n    )\n        \n\n\n"
        }, 
        {
            "source": "Now it\u2019s time to create DataFrames containing for each accelerometer sensor axis and one for each class. This means you\u2019ll get 6 DataFrames. Please implement this using the relational API of DataFrames or SparkSQL.\n", 
            "cell_type": "markdown", 
            "metadata": {}
        }, 
        {
            "execution_count": 8, 
            "cell_type": "code", 
            "metadata": {}, 
            "outputs": [], 
            "source": "x0 = spark.sql('SELECT X FROM df WHERE class = 0')\ny0 = spark.sql('SELECT Y FROM df WHERE class = 0')\nz0 = spark.sql('SELECT Z FROM df WHERE class = 0')\nx1 = spark.sql('SELECT X FROM df WHERE class = 1')\ny1 = spark.sql('SELECT Y FROM df WHERE class = 1')\nz1 = spark.sql('SELECT Z FROM df WHERE class = 1')"
        }, 
        {
            "source": "Since we\u2019ve created this cool DFT function before, we can just call it for each of the 6 DataFrames now. And since the result of this function call is a DataFrame again we can use the pyspark best practice in simply calling methods on it sequentially. So what we are doing is the following:\n\n- Calling DFT for each class and accelerometer sensor axis.\n- Joining them together on the ID column. \n- Re-adding a column containing the class index.\n- Stacking both Dataframes for each classes together\n\n", 
            "cell_type": "markdown", 
            "metadata": {}
        }, 
        {
            "execution_count": 9, 
            "cell_type": "code", 
            "metadata": {}, 
            "outputs": [
                {
                    "output_type": "stream", 
                    "name": "stdout", 
                    "text": "SystemML Statistics:\nTotal execution time:\t\t2.165 sec.\nNumber of executed Spark inst:\t0.\n\n\nSystemML Statistics:\nTotal execution time:\t\t1.164 sec.\nNumber of executed Spark inst:\t0.\n\n\nSystemML Statistics:\nTotal execution time:\t\t1.018 sec.\nNumber of executed Spark inst:\t0.\n\n\nSystemML Statistics:\nTotal execution time:\t\t0.003 sec.\nNumber of executed Spark inst:\t0.\n\n\nSystemML Statistics:\nTotal execution time:\t\t0.000 sec.\nNumber of executed Spark inst:\t0.\n\n\nSystemML Statistics:\nTotal execution time:\t\t0.000 sec.\nNumber of executed Spark inst:\t0.\n\n\n+----------+-------------------+-------------------+-------------------+-------------------+-------------------+-------------------+-----+\n|        id|                 xa|                 xb|                 ya|                 yb|                 za|                 zb|class|\n+----------+-------------------+-------------------+-------------------+-------------------+-------------------+-------------------+-----+\n|        26| 277.02638185340186|-105.30541132436133| 277.02638185340186|-105.30541132436133| 277.02638185340186|-105.30541132436133|    0|\n|        29|  -631.859647380252| -534.6327283466161|  -631.859647380252| -534.6327283466161|  -631.859647380252| -534.6327283466161|    0|\n|       474| -599.3417601189759| 139.44810124847817| -599.3417601189759| 139.44810124847817| -599.3417601189759| 139.44810124847817|    0|\n|       964|-191.28182895931423|-21.954641584156263|-191.28182895931423|-21.954641584156263|-191.28182895931423|-21.954641584156263|    0|\n|8589934658| -338.1174583718421| -638.8550691119237| -338.1174583718421| -638.8550691119237| -338.1174583718421| -638.8550691119237|    0|\n|8589934965|  437.8357318527258|  -69.6239525115763|  437.8357318527258|  -69.6239525115763|  437.8357318527258|  -69.6239525115763|    0|\n|8589935171| 455.99185184035485|-327.39169085241025| 455.99185184035485|-327.39169085241025| 455.99185184035485|-327.39169085241025|    0|\n|8589935183|-182.18609489318288| -197.2895548281527|-182.18609489318288| -197.2895548281527|-182.18609489318288| -197.2895548281527|    0|\n|8589935298| 127.90172335422236| 309.26834035214495| 127.90172335422236| 309.26834035214495| 127.90172335422236| 309.26834035214495|    0|\n|8589935317| 139.36939401210142|  10.96154761232723| 139.36939401210142|  10.96154761232723| 139.36939401210142|  10.96154761232723|    0|\n|        65|  431.0689217541484| -99.02966094879875|  431.0689217541484| -99.02966094879875|  431.0689217541484| -99.02966094879875|    0|\n|       191|  -440.453971550185|-364.02872559745305|  -440.453971550185|-364.02872559745305|  -440.453971550185|-364.02872559745305|    0|\n|       418| -36.32929978269496| 394.42426218782356| -36.32929978269496| 394.42426218782356| -36.32929978269496| 394.42426218782356|    0|\n|       541| 225.05165252901068| 161.49483273954556| 225.05165252901068| 161.49483273954556| 225.05165252901068| 161.49483273954556|    0|\n|       558|  86.81537613851569|  38.49823823300467|  86.81537613851569|  38.49823823300467|  86.81537613851569|  38.49823823300467|    0|\n|      1010| 142.53371159782105| -41.74510260892028| 142.53371159782105| -41.74510260892028| 142.53371159782105| -41.74510260892028|    0|\n|8589934785| -85.54255480382034|-332.74510281281687| -85.54255480382034|-332.74510281281687| -85.54255480382034|-332.74510281281687|    0|\n|8589934903| 28.818993113881675|-450.35607939120905| 28.818993113881675|-450.35607939120905| 28.818993113881675|-450.35607939120905|    0|\n|8589935056| 114.81753757588359|  -7.41585118594268| 114.81753757588359|  -7.41585118594268| 114.81753757588359|  -7.41585118594268|    0|\n|8589935196|-142.93376596004097|-361.30994113338636|-142.93376596004097|-361.30994113338636|-142.93376596004097|-361.30994113338636|    0|\n+----------+-------------------+-------------------+-------------------+-------------------+-------------------+-------------------+-----+\nonly showing top 20 rows\n\n"
                }
            ], 
            "source": "from pyspark.sql.functions import lit\n\ndf_class_0 = dft_systemml(x0,'x') \\\n    .join(dft_systemml(y0,'y'), on=['id'], how='inner') \\\n    .join(dft_systemml(z0,'z'), on=['id'], how='inner') \\\n    .withColumn('class', lit(0))\n    \ndf_class_1 = dft_systemml(x1,'x') \\\n    .join(dft_systemml(y1,'y'), on=['id'], how='inner') \\\n    .join(dft_systemml(z1,'z'), on=['id'], how='inner') \\\n    .withColumn('class', lit(1))\n\ndf_dft = df_class_0.union(df_class_1)\n\ndf_dft.show()"
        }, 
        {
            "source": "Please create a VectorAssembler which consumes the newly created DFT columns and produces a column \u201cfeatures\u201d\n", 
            "cell_type": "markdown", 
            "metadata": {}
        }, 
        {
            "execution_count": 14, 
            "cell_type": "code", 
            "metadata": {}, 
            "outputs": [], 
            "source": "###YOUR_CODE_GOES_HERE###\nfrom pyspark.ml.feature import VectorAssembler\nvectorAssembler = VectorAssembler(inputCols = ['xa','xb','ya','yb','za','zb'], outputCol = 'features')"
        }, 
        {
            "source": "Please insatiate a classifier from the SparkML package and assign it to the classifier variable. Make sure to set the \u201cclass\u201d column as target.\n", 
            "cell_type": "markdown", 
            "metadata": {}
        }, 
        {
            "execution_count": 15, 
            "cell_type": "code", 
            "metadata": {}, 
            "outputs": [], 
            "source": "###YOUR_CODE_GOES_HERE###\nfrom pyspark.ml.classification import GBTClassifier\n\nclassifier = GBTClassifier(labelCol=\"class\", featuresCol=\"features\", maxIter=10)"
        }, 
        {
            "source": "Let\u2019s train and evaluate\u2026\n", 
            "cell_type": "markdown", 
            "metadata": {}
        }, 
        {
            "execution_count": 16, 
            "cell_type": "code", 
            "metadata": {}, 
            "outputs": [], 
            "source": "from pyspark.ml import Pipeline\npipeline = Pipeline(stages=[vectorAssembler, classifier])"
        }, 
        {
            "execution_count": 17, 
            "cell_type": "code", 
            "metadata": {}, 
            "outputs": [], 
            "source": "model = pipeline.fit(df_dft)"
        }, 
        {
            "execution_count": 18, 
            "cell_type": "code", 
            "metadata": {}, 
            "outputs": [], 
            "source": "prediction = model.transform(df_dft)"
        }, 
        {
            "execution_count": 19, 
            "cell_type": "code", 
            "metadata": {}, 
            "outputs": [
                {
                    "output_type": "stream", 
                    "name": "stdout", 
                    "text": "+----------+-------------------+-------------------+-------------------+-------------------+-------------------+-------------------+-----+--------------------+----------+\n|        id|                 xa|                 xb|                 ya|                 yb|                 za|                 zb|class|            features|prediction|\n+----------+-------------------+-------------------+-------------------+-------------------+-------------------+-------------------+-----+--------------------+----------+\n|        26| 277.02638185340186|-105.30541132436133| 277.02638185340186|-105.30541132436133| 277.02638185340186|-105.30541132436133|    0|[277.026381853401...|       0.0|\n|        29|  -631.859647380252| -534.6327283466161|  -631.859647380252| -534.6327283466161|  -631.859647380252| -534.6327283466161|    0|[-631.85964738025...|       0.0|\n|       474| -599.3417601189759| 139.44810124847817| -599.3417601189759| 139.44810124847817| -599.3417601189759| 139.44810124847817|    0|[-599.34176011897...|       0.0|\n|       964|-191.28182895931423|-21.954641584156263|-191.28182895931423|-21.954641584156263|-191.28182895931423|-21.954641584156263|    0|[-191.28182895931...|       0.0|\n|8589934658| -338.1174583718421| -638.8550691119237| -338.1174583718421| -638.8550691119237| -338.1174583718421| -638.8550691119237|    0|[-338.11745837184...|       0.0|\n|8589934965|  437.8357318527258|  -69.6239525115763|  437.8357318527258|  -69.6239525115763|  437.8357318527258|  -69.6239525115763|    0|[437.835731852725...|       0.0|\n|8589935171| 455.99185184035485|-327.39169085241025| 455.99185184035485|-327.39169085241025| 455.99185184035485|-327.39169085241025|    0|[455.991851840354...|       0.0|\n|8589935183|-182.18609489318288| -197.2895548281527|-182.18609489318288| -197.2895548281527|-182.18609489318288| -197.2895548281527|    0|[-182.18609489318...|       0.0|\n|8589935298| 127.90172335422236| 309.26834035214495| 127.90172335422236| 309.26834035214495| 127.90172335422236| 309.26834035214495|    0|[127.901723354222...|       0.0|\n|8589935317| 139.36939401210142|  10.96154761232723| 139.36939401210142|  10.96154761232723| 139.36939401210142|  10.96154761232723|    0|[139.369394012101...|       0.0|\n|        65|  431.0689217541484| -99.02966094879875|  431.0689217541484| -99.02966094879875|  431.0689217541484| -99.02966094879875|    0|[431.068921754148...|       0.0|\n|       191|  -440.453971550185|-364.02872559745305|  -440.453971550185|-364.02872559745305|  -440.453971550185|-364.02872559745305|    0|[-440.45397155018...|       0.0|\n|       418| -36.32929978269496| 394.42426218782356| -36.32929978269496| 394.42426218782356| -36.32929978269496| 394.42426218782356|    0|[-36.329299782694...|       0.0|\n|       541| 225.05165252901068| 161.49483273954556| 225.05165252901068| 161.49483273954556| 225.05165252901068| 161.49483273954556|    0|[225.051652529010...|       0.0|\n|       558|  86.81537613851569|  38.49823823300467|  86.81537613851569|  38.49823823300467|  86.81537613851569|  38.49823823300467|    0|[86.8153761385156...|       0.0|\n|      1010| 142.53371159782105| -41.74510260892028| 142.53371159782105| -41.74510260892028| 142.53371159782105| -41.74510260892028|    0|[142.533711597821...|       0.0|\n|8589934785| -85.54255480382034|-332.74510281281687| -85.54255480382034|-332.74510281281687| -85.54255480382034|-332.74510281281687|    0|[-85.542554803820...|       0.0|\n|8589934903| 28.818993113881675|-450.35607939120905| 28.818993113881675|-450.35607939120905| 28.818993113881675|-450.35607939120905|    0|[28.8189931138816...|       0.0|\n|8589935056| 114.81753757588359|  -7.41585118594268| 114.81753757588359|  -7.41585118594268| 114.81753757588359|  -7.41585118594268|    0|[114.817537575883...|       0.0|\n|8589935196|-142.93376596004097|-361.30994113338636|-142.93376596004097|-361.30994113338636|-142.93376596004097|-361.30994113338636|    0|[-142.93376596004...|       0.0|\n+----------+-------------------+-------------------+-------------------+-------------------+-------------------+-------------------+-----+--------------------+----------+\nonly showing top 20 rows\n\n"
                }
            ], 
            "source": "prediction.show()"
        }, 
        {
            "execution_count": 20, 
            "cell_type": "code", 
            "metadata": {}, 
            "outputs": [
                {
                    "execution_count": 20, 
                    "metadata": {}, 
                    "data": {
                        "text/plain": "0.9991304347826087"
                    }, 
                    "output_type": "execute_result"
                }
            ], 
            "source": "from pyspark.ml.evaluation import MulticlassClassificationEvaluator\nbinEval = MulticlassClassificationEvaluator().setMetricName(\"accuracy\") .setPredictionCol(\"prediction\").setLabelCol(\"class\")\n    \nbinEval.evaluate(prediction) "
        }, 
        {
            "source": "If you are happy with the result (I\u2019m happy with > 0.8) please submit your solution to the grader by executing the following cells, please don\u2019t forget to obtain an assignment submission token (secret) from the Courera\u2019s graders web page and paste it to the \u201csecret\u201d variable below, including your email address you\u2019ve used for Coursera. \n", 
            "cell_type": "markdown", 
            "metadata": {}
        }, 
        {
            "execution_count": 21, 
            "cell_type": "code", 
            "metadata": {}, 
            "outputs": [], 
            "source": "!rm -Rf a2_m4.json"
        }, 
        {
            "execution_count": 22, 
            "cell_type": "code", 
            "metadata": {}, 
            "outputs": [], 
            "source": "prediction = prediction.repartition(1)\nprediction.write.json('a2_m4.json')"
        }, 
        {
            "execution_count": 23, 
            "cell_type": "code", 
            "metadata": {}, 
            "outputs": [
                {
                    "output_type": "stream", 
                    "name": "stdout", 
                    "text": "--2018-12-31 02:23:14--  https://raw.githubusercontent.com/romeokienzler/developerWorks/master/coursera/ai/rklib.py\nResolving raw.githubusercontent.com (raw.githubusercontent.com)... 151.101.48.133\nConnecting to raw.githubusercontent.com (raw.githubusercontent.com)|151.101.48.133|:443... connected.\nHTTP request sent, awaiting response... 200 OK\nLength: 2289 (2.2K) [text/plain]\nSaving to: \u2018rklib.py\u2019\n\n100%[======================================>] 2,289       --.-K/s   in 0s      \n\n2018-12-31 02:23:14 (11.0 MB/s) - \u2018rklib.py\u2019 saved [2289/2289]\n\n"
                }
            ], 
            "source": "!rm -f rklib.py\n!wget https://raw.githubusercontent.com/romeokienzler/developerWorks/master/coursera/ai/rklib.py"
        }, 
        {
            "execution_count": 24, 
            "cell_type": "code", 
            "metadata": {}, 
            "outputs": [
                {
                    "output_type": "stream", 
                    "name": "stdout", 
                    "text": "  adding: a2_m4.json/ (stored 0%)\r\n  adding: a2_m4.json/_SUCCESS (stored 0%)\r\n  adding: a2_m4.json/._SUCCESS.crc (stored 0%)\r\n  adding: a2_m4.json/.part-00000-36a9b2e2-796e-4f8b-a6e7-610a601d42a1.json.crc (stored 0%)\r\n  adding: a2_m4.json/part-00000-36a9b2e2-796e-4f8b-a6e7-610a601d42a1.json (deflated 86%)\r\n"
                }
            ], 
            "source": "!zip -r a2_m4.json.zip a2_m4.json"
        }, 
        {
            "execution_count": 25, 
            "cell_type": "code", 
            "metadata": {}, 
            "outputs": [], 
            "source": "!base64 a2_m4.json.zip > a2_m4.json.zip.base64"
        }, 
        {
            "execution_count": 26, 
            "cell_type": "code", 
            "metadata": {}, 
            "outputs": [
                {
                    "output_type": "stream", 
                    "name": "stdout", 
                    "text": "Submission successful, please check on the coursera grader page for the status\n-------------------------\n{\"elements\":[{\"itemId\":\"B8wXV\",\"id\":\"f_F-qCtuEei_fRLwaVDk3g~B8wXV~UgCc7AzVEemZUwrw3z8SgA\",\"courseId\":\"f_F-qCtuEei_fRLwaVDk3g\"}],\"paging\":{},\"linked\":{}}\n-------------------------\n"
                }
            ], 
            "source": "from rklib import submit\nkey = \"-fBiYHYDEeiR4QqiFhAvkA\"\npart = \"IjtJk\"\nemail = \"tommyhpratama@gmail.com\"\nsecret = \"JGBvA4Kx0glVVLHx\"\n\nwith open('a2_m4.json.zip.base64', 'r') as myfile:\n    data=myfile.read()\nsubmit(email, secret, key, part, [part], data)"
        }
    ], 
    "metadata": {
        "kernelspec": {
            "display_name": "Python 3.5 with Spark 2.1", 
            "name": "python3-spark21", 
            "language": "python"
        }, 
        "language_info": {
            "mimetype": "text/x-python", 
            "nbconvert_exporter": "python", 
            "version": "3.5.4", 
            "name": "python", 
            "file_extension": ".py", 
            "pygments_lexer": "ipython3", 
            "codemirror_mode": {
                "version": 3, 
                "name": "ipython"
            }
        }
    }, 
    "nbformat": 4
}