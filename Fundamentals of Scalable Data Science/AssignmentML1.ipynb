{
    "nbformat_minor": 1, 
    "cells": [
        {
            "source": "This is the first assgiment for the Coursera course \"Advanced Machine Learning and Signal Processing\"\n\nThe first step is to insert the credentials to the Apache CouchDB / Cloudant database where your sensor data ist stored to. \n\n1. In the project's overview tab of this project just select \"Add to project\"->Connection\n2. From the section \"Your service instances in IBM Cloud\" select your cloudant database and click on \"create\"\n3. Now click in the empty cell below labeled with \"your cloudant credentials go here\"\n4. Click on the \"10-01\" symbol top right and selecrt the \"Connections\" tab\n5. Find your data base connection and click on \"Insert to code\"\n\nThe following video illustrates this process: https://www.youtube.com/watch?v=dCawUGv7qgs\n\nDone, just execute all cells one after the other and you are done - just note that in the last one you have to update your email address (the one you've used for coursera) and obtain a submittion token, you get this from the programming assingment directly on coursera.", 
            "cell_type": "markdown", 
            "metadata": {}
        }, 
        {
            "execution_count": 4, 
            "cell_type": "code", 
            "metadata": {}, 
            "outputs": [], 
            "source": "# The code was removed by Watson Studio for sharing."
        }, 
        {
            "execution_count": 5, 
            "cell_type": "code", 
            "metadata": {}, 
            "outputs": [], 
            "source": "spark = SparkSession\\\n    .builder\\\n    .appName(\"Cloudant Spark SQL Example in Python using temp tables\")\\\n    .config(\"cloudant.host\",credentials_1['custom_url'].split('@')[1])\\\n    .config(\"cloudant.username\", credentials_1['username'])\\\n    .config(\"cloudant.password\",credentials_1['password'])\\\n    .config(\"jsonstore.rdd.partitions\", 1)\\\n    .getOrCreate()"
        }, 
        {
            "execution_count": 6, 
            "cell_type": "code", 
            "metadata": {}, 
            "outputs": [
                {
                    "output_type": "stream", 
                    "name": "stdout", 
                    "text": "+-----+--------+---+---+---+--------------------+--------------------+\n|CLASS|SENSORID|  X|  Y|  Z|                 _id|                _rev|\n+-----+--------+---+---+---+--------------------+--------------------+\n|    0|asdfghjk|0.0|0.0|0.0|1267e9ad5b4bee16b...|1-461daac6b553896...|\n|    0|asdfghjk|0.0|0.0|0.0|1267e9ad5b4bee16b...|1-461daac6b553896...|\n|    0|asdfghjk|0.0|0.0|0.0|1267e9ad5b4bee16b...|1-461daac6b553896...|\n|    0|asdfghjk|0.0|0.0|0.0|1267e9ad5b4bee16b...|1-461daac6b553896...|\n|    0|asdfghjk|0.0|0.0|0.0|1267e9ad5b4bee16b...|1-461daac6b553896...|\n|    0|asdfghjk|0.0|0.0|0.0|1267e9ad5b4bee16b...|1-461daac6b553896...|\n|    0|asdfghjk|0.0|0.0|0.0|1267e9ad5b4bee16b...|1-461daac6b553896...|\n|    0|asdfghjk|0.0|0.0|0.0|1267e9ad5b4bee16b...|1-461daac6b553896...|\n|    0|asdfghjk|0.0|0.0|0.0|1267e9ad5b4bee16b...|1-461daac6b553896...|\n|    0|asdfghjk|0.0|0.0|0.0|1267e9ad5b4bee16b...|1-461daac6b553896...|\n|    0|asdfghjk|0.0|0.0|0.0|1267e9ad5b4bee16b...|1-461daac6b553896...|\n|    0|asdfghjk|0.0|0.0|0.0|1267e9ad5b4bee16b...|1-461daac6b553896...|\n|    0|asdfghjk|0.0|0.0|0.0|1267e9ad5b4bee16b...|1-461daac6b553896...|\n|    0|asdfghjk|0.0|0.0|0.0|1267e9ad5b4bee16b...|1-461daac6b553896...|\n|    0|asdfghjk|0.0|0.0|0.0|1267e9ad5b4bee16b...|1-461daac6b553896...|\n|    1|asdfghjk|0.0|0.0|0.0|1267e9ad5b4bee16b...|1-bf6e1866fd94255...|\n|    1|asdfghjk|0.0|0.0|0.0|1267e9ad5b4bee16b...|1-bf6e1866fd94255...|\n|    1|asdfghjk|0.0|0.0|0.0|1267e9ad5b4bee16b...|1-bf6e1866fd94255...|\n|    1|asdfghjk|0.0|0.0|0.0|1267e9ad5b4bee16b...|1-bf6e1866fd94255...|\n|    1|asdfghjk|0.0|0.0|0.0|1267e9ad5b4bee16b...|1-bf6e1866fd94255...|\n+-----+--------+---+---+---+--------------------+--------------------+\nonly showing top 20 rows\n\n"
                }
            ], 
            "source": "df=spark.read.load('shake', \"com.cloudant.spark\")\n\ndf.createOrReplaceTempView(\"df\")\nspark.sql(\"SELECT * from df\").show()\n"
        }, 
        {
            "execution_count": 7, 
            "cell_type": "code", 
            "metadata": {}, 
            "outputs": [], 
            "source": "!rm -Rf a2_m1.parquet"
        }, 
        {
            "execution_count": 8, 
            "cell_type": "code", 
            "metadata": {}, 
            "outputs": [], 
            "source": "df = df.repartition(1)\ndf.write.json('a2_m1.json')"
        }, 
        {
            "execution_count": 9, 
            "cell_type": "code", 
            "metadata": {}, 
            "outputs": [
                {
                    "output_type": "stream", 
                    "name": "stdout", 
                    "text": "--2018-12-30 04:30:32--  https://raw.githubusercontent.com/romeokienzler/developerWorks/master/coursera/ai/rklib.py\nResolving raw.githubusercontent.com (raw.githubusercontent.com)... 151.101.48.133\nConnecting to raw.githubusercontent.com (raw.githubusercontent.com)|151.101.48.133|:443... connected.\nHTTP request sent, awaiting response... 200 OK\nLength: 2289 (2.2K) [text/plain]\nSaving to: \u2018rklib.py\u2019\n\n100%[======================================>] 2,289       --.-K/s   in 0s      \n\n2018-12-30 04:30:33 (19.9 MB/s) - \u2018rklib.py\u2019 saved [2289/2289]\n\n"
                }
            ], 
            "source": "!rm -f rklib.py\n!wget https://raw.githubusercontent.com/romeokienzler/developerWorks/master/coursera/ai/rklib.py"
        }, 
        {
            "execution_count": 10, 
            "cell_type": "code", 
            "metadata": {}, 
            "outputs": [
                {
                    "output_type": "stream", 
                    "name": "stdout", 
                    "text": "  adding: a2_m1.json/ (stored 0%)\r\n  adding: a2_m1.json/_SUCCESS (stored 0%)\r\n  adding: a2_m1.json/._SUCCESS.crc (stored 0%)\r\n  adding: a2_m1.json/part-00000-7508b4e7-d8a7-4b18-ad41-24056ce34499.json (deflated 86%)\r\n  adding: a2_m1.json/.part-00000-7508b4e7-d8a7-4b18-ad41-24056ce34499.json.crc (stored 0%)\r\n"
                }
            ], 
            "source": "!zip -r a2_m1.json.zip a2_m1.json"
        }, 
        {
            "execution_count": 11, 
            "cell_type": "code", 
            "metadata": {}, 
            "outputs": [], 
            "source": "!base64 a2_m1.json.zip > a2_m1.json.zip.base64"
        }, 
        {
            "execution_count": 12, 
            "cell_type": "code", 
            "metadata": {}, 
            "outputs": [
                {
                    "output_type": "stream", 
                    "name": "stdout", 
                    "text": "Submission successful, please check on the coursera grader page for the status\n-------------------------\n{\"elements\":[{\"itemId\":\"O8C69\",\"id\":\"f_F-qCtuEei_fRLwaVDk3g~O8C69~LqnB1gweEemNsgqSGaU9BA\",\"courseId\":\"f_F-qCtuEei_fRLwaVDk3g\"}],\"paging\":{},\"linked\":{}}\n-------------------------\n"
                }
            ], 
            "source": "from rklib import submit\nkey = \"1injH2F0EeiLlRJ3eJKoXA\"\npart = \"wNLDt\"\nemail = \"tommyhpratama@gmail.com\"\nsecret = \"ZoJvK2cEjMUttsNo\"\n\nwith open('a2_m1.json.zip.base64', 'r') as myfile:\n    data=myfile.read()\nsubmit(email, secret, key, part, [part], data)"
        }, 
        {
            "execution_count": null, 
            "cell_type": "code", 
            "metadata": {}, 
            "outputs": [], 
            "source": ""
        }
    ], 
    "metadata": {
        "kernelspec": {
            "display_name": "Python 3.5 with Spark 2.1", 
            "name": "python3-spark21", 
            "language": "python"
        }, 
        "language_info": {
            "mimetype": "text/x-python", 
            "nbconvert_exporter": "python", 
            "version": "3.5.4", 
            "name": "python", 
            "file_extension": ".py", 
            "pygments_lexer": "ipython3", 
            "codemirror_mode": {
                "version": 3, 
                "name": "ipython"
            }
        }
    }, 
    "nbformat": 4
}